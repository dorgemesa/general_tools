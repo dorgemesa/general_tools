{
 "cells": [
  {
   "cell_type": "code",
   "execution_count": null,
   "metadata": {},
   "outputs": [],
   "source": [
    "import numpy as np\n",
    "import matplotlib.pyplot as plt\n",
    "from monai.losses.dice import DiceCELoss\n",
    "from monai.losses.dice import DiceLoss\n",
    "import torch.nn as nn\n",
    "import torch"
   ]
  },
  {
   "cell_type": "code",
   "execution_count": null,
   "metadata": {},
   "outputs": [],
   "source": [
    "\n",
    "def create_a_box(image_size, box_size):\n",
    "    background = np.zeros((image_size,image_size))\n",
    "    box = np.ones((box_size,box_size))\n",
    "    background[:len(box), :len(box)] = box\n",
    "    tensor = torch.Tensor(background).unsqueeze(0)\n",
    "    print(tensor.size())\n",
    "    return tensor\n"
   ]
  },
  {
   "cell_type": "code",
   "execution_count": null,
   "metadata": {},
   "outputs": [],
   "source": [
    "'''\n",
    "Create a few artificial images of size 128\n",
    "'''\n",
    "\n",
    "# box of size 1 \n",
    "box_1 = create_a_box(128, 1)\n",
    "\n",
    "# box of size 4\n",
    "box_4 = create_a_box(128, 4)\n",
    "\n",
    "# box of size 16\n",
    "box_16 = create_a_box(128, 16)\n",
    "\n",
    "# box of size 64\n",
    "box_64 = create_a_box(128, 64)\n",
    "\n",
    "# box of size 96\n",
    "box_96 = create_a_box(128, 96)\n",
    "\n",
    "# box of size 120\n",
    "box_120 = create_a_box(128, 120)\n",
    "\n",
    "# box of size 128\n",
    "box_128 = create_a_box(128, 128)\n",
    "\n",
    "\n",
    "'''\n",
    "Create a few artificial images of size 16\n",
    "'''\n",
    "\n",
    "\n",
    "# box of size 1 \n",
    "BOX_1 = create_a_box(16, 1)\n",
    "\n",
    "# box of size 4\n",
    "BOX_2 = create_a_box(16, 2)\n",
    "\n",
    "# box of size 16\n",
    "BOX_3 = create_a_box(16, 3)\n",
    "\n",
    "# box of size 64\n",
    "BOX_4 = create_a_box(16, 4)\n",
    "\n",
    "# box of size 64\n",
    "BOX_6 = create_a_box(16, 6)\n",
    "\n",
    "# box of size 64\n",
    "BOX_8 = create_a_box(16, 8)\n",
    "\n",
    "# box of size 64\n",
    "BOX_12 = create_a_box(16, 12)\n",
    "\n",
    "# box of size 64\n",
    "BOX_16 = create_a_box(16, 16)\n"
   ]
  },
  {
   "cell_type": "code",
   "execution_count": null,
   "metadata": {},
   "outputs": [],
   "source": [
    "def random_array(size):\n",
    "    return np.random.rand(size, size, 3)\n",
    "\n",
    "array = random_array(128)\n",
    "\n",
    "# the plt.imshow takes as input a height, width, channel(= 3) array\n",
    "plt.imshow(array)"
   ]
  },
  {
   "cell_type": "code",
   "execution_count": null,
   "metadata": {},
   "outputs": [],
   "source": [
    "def two_by_one_box(image_size):\n",
    "    background = np.zeros((image_size,image_size))\n",
    "    box = np.ones((1,2))\n",
    "    background[:len(box), :len(box[0])] = box\n",
    "    tensor = torch.Tensor(background).unsqueeze(0)\n",
    "    print(tensor.size())\n",
    "    return tensor\n",
    "two_by_one = two_by_one_box(4)\n",
    "two_by_two = create_a_box(4, 2)\n",
    "bce_loss(two_by_one, two_by_two)\n",
    "# number bce ok : 14\n",
    "# number bce not ok : 2\n",
    "200/16\n"
   ]
  },
  {
   "cell_type": "code",
   "execution_count": null,
   "metadata": {},
   "outputs": [],
   "source": [
    "import matplotlib.pyplot as plt\n",
    "from infer import infer_image\n",
    "import numpy as np\n",
    "\n",
    "output = infer_image('C:\\\\Users\\\\LouisDorge\\\\OneDrive - MESASIGHT GmbH\\\\Desktop\\\\toolings\\\\checkpoint_v1.pth', 'C:\\\\Users\\\\LouisDorge\\\\OneDrive - MESASIGHT GmbH\\\\Desktop\\\\toolings\\\\train_data\\\\0a1b7d6ec.jpg')\n",
    "seg = (output>0.5)+0\n",
    "\n",
    "# print(output)\n",
    "plt.imshow(output, cmap=\"gray\")\n"
   ]
  },
  {
   "cell_type": "code",
   "execution_count": null,
   "metadata": {},
   "outputs": [],
   "source": [
    "!pip install efficientnet_pytorch --quiet\n",
    "from efficientnet_pytorch import EfficientNet\n",
    "encoder = EfficientNet.from_pretrained('efficientnet-b0', num_classes=2)\n"
   ]
  },
  {
   "cell_type": "code",
   "execution_count": null,
   "metadata": {},
   "outputs": [],
   "source": [
    "print(encoder)\n",
    "encoder._conv_stem.weight.size()\n"
   ]
  },
  {
   "cell_type": "code",
   "execution_count": null,
   "metadata": {},
   "outputs": [],
   "source": [
    "a = np.array([[0.8, 0.7], [0.1,0.4]])\n",
    "a>0.5"
   ]
  },
  {
   "cell_type": "code",
   "execution_count": null,
   "metadata": {},
   "outputs": [],
   "source": [
    "from infer import inference\n",
    "output = inference('C:\\\\Users\\\\LouisDorge\\\\OneDrive - MESASIGHT GmbH\\\\Desktop\\\\toolings\\\\checkpoint_v3.pth', 'C:\\\\Users\\\\LouisDorge\\\\OneDrive - MESASIGHT GmbH\\\\Desktop\\\\toolings\\\\train_data\\\\0a0df8299.jpg')\n",
    "\n"
   ]
  },
  {
   "cell_type": "code",
   "execution_count": null,
   "metadata": {},
   "outputs": [],
   "source": [
    "from infer import inference\n",
    "output = inference('C:\\\\Users\\\\LouisDorge\\\\OneDrive - MESASIGHT GmbH\\\\Desktop\\\\toolings\\\\checkpoint_v3.pth', 'C:\\\\Users\\\\LouisDorge\\\\OneDrive - MESASIGHT GmbH\\\\Desktop\\\\toolings\\\\train_data\\\\0a0df8299.jpg')\n",
    "\n"
   ]
  },
  {
   "cell_type": "code",
   "execution_count": null,
   "metadata": {},
   "outputs": [],
   "source": [
    "'''\n",
    "Plot a box\n",
    "'''\n",
    "\n",
    "plt.imshow(BOX_6.permute(1,2,0), cmap=\"gray\")\n",
    "\n"
   ]
  },
  {
   "cell_type": "code",
   "execution_count": null,
   "metadata": {},
   "outputs": [],
   "source": [
    "dice_ce_loss = DiceCELoss(batch=False, lambda_dice =  1, lambda_ce = 0, reduction = \"mean\", include_background=False)\n",
    "bce_loss = nn.BCELoss()\n",
    "dice_loss = DiceLoss(batch=False, reduction = \"mean\", include_background=False)\n",
    "\n",
    "def dice(input, target, epsilon = 1e-7):\n",
    "\n",
    "    size = input.size()\n",
    "    length = len(size)\n",
    "\n",
    "    if length == 3:\n",
    "        input = input.view( -1)\n",
    "        target = target.view( -1)\n",
    "        \n",
    "        intersection = torch.sum(target * input)\n",
    "        union = torch.sum(target) + torch.sum(input)\n",
    "\n",
    "        dice_error = ( (2 * intersection + epsilon) / (union + epsilon) )\n",
    "\n",
    "    else:\n",
    "        batch, _,_,_ = size\n",
    "        input = input.view(batch, -1)\n",
    "        target = target.view(batch, -1)\n",
    "\n",
    "        intersection = torch.sum(target * input, dim=1)\n",
    "        union = torch.sum(target, dim=1) + torch.sum(input, dim=1)\n",
    "\n",
    "        dice_error = ( (2 * intersection + epsilon) / (union + epsilon) )\n",
    "\n",
    "    return torch.mean(1 - dice_error)\n",
    "\n",
    "def dice_bce(input, target, lambda_dice, lambda_ce):\n",
    "\n",
    "    Dloss = dice(input, target)\n",
    "    # print(Dloss)\n",
    "\n",
    "    CEloss = bce_loss(input, target)\n",
    "    # print(CEloss)\n",
    "    \n",
    "    return lambda_dice * Dloss + lambda_ce * CEloss\n",
    "\n",
    "DICE = dice(BOX_6, BOX_8)\n",
    "# intersection = 6*6 = 36\n",
    "# union = 6*6 + 8*8 = 100\n",
    "# dice score = 2 * 36 / 100\n",
    "# dice loss = 1 - 0.72\n",
    "\n",
    "DICE = dice(BOX_1, BOX_2)\n",
    "# dice loss = 0.6\n",
    "\n",
    "BCE = bce_loss(BOX_1, BOX_2)\n",
    "# BCE ok : 1\n",
    "# BCE not ok : 3\n",
    "# total BCE : 256\n",
    "# return : 300 / 256 = 1.1719\n",
    "\n",
    "DICE_BCE = dice_bce(BOX_1, BOX_2, 1, 1)\n",
    "# return 1.77\n",
    "\n",
    "# dice_bce(BOX_1.unsqueeze(0), BOX_2.unsqueeze(0), 1, 1)\n",
    "\n",
    "bce_loss(big_tensor_1, big_tensor_2)\n",
    "\n",
    "dice(big_tensor_1, big_tensor_2)"
   ]
  },
  {
   "cell_type": "code",
   "execution_count": null,
   "metadata": {},
   "outputs": [],
   "source": [
    "big_tensor_1 = torch.cat((BOX_1.unsqueeze(0), BOX_2.unsqueeze(0)), dim=0)\n",
    "big_tensor_2 = torch.cat((BOX_2.unsqueeze(0), BOX_2.unsqueeze(0)), dim=0)\n",
    "dice_bce(big_tensor_1, big_tensor_2, 1 ,1)"
   ]
  },
  {
   "cell_type": "code",
   "execution_count": null,
   "metadata": {},
   "outputs": [],
   "source": [
    "from unet import UNet\n",
    "unet = UNet(3, 2)\n"
   ]
  },
  {
   "cell_type": "code",
   "execution_count": null,
   "metadata": {},
   "outputs": [],
   "source": [
    "prediction = BOX_2\n",
    "ground_truth = BOX_3\n",
    "\n",
    "'''\n",
    "CE Loss\n",
    "'''\n",
    "\n",
    "output_ce = bce_loss(prediction, ground_truth)\n",
    "\n",
    "print(output_ce)\n",
    "\n",
    "\n",
    "'''\n",
    "dice\n",
    "'''\n",
    "\n",
    "output_dice = dice(prediction, ground_truth)\n",
    "\n",
    "print(output_dice)\n",
    "\n",
    "\n",
    "'''\n",
    "DICE Loss\n",
    "'''\n",
    "\n",
    "output_dice = dice_loss(prediction, ground_truth)\n",
    "\n",
    "print(output_dice)\n",
    "\n",
    "\n",
    "'''\n",
    "DICE CE Loss\n",
    "'''\n",
    "\n",
    "output_ce_dice = dice_ce_loss(prediction, ground_truth)\n",
    "\n",
    "print(output_ce_dice)\n"
   ]
  }
 ],
 "metadata": {
  "interpreter": {
   "hash": "9ed2ffbdf226bef58f57902ca66fcc59d1de5d0af5a8ea7d39b5d0f3ada0bd6e"
  },
  "kernelspec": {
   "display_name": "Python 3.8.13 ('baby')",
   "language": "python",
   "name": "python3"
  },
  "language_info": {
   "codemirror_mode": {
    "name": "ipython",
    "version": 3
   },
   "file_extension": ".py",
   "mimetype": "text/x-python",
   "name": "python",
   "nbconvert_exporter": "python",
   "pygments_lexer": "ipython3",
   "version": "3.8.13"
  },
  "orig_nbformat": 4
 },
 "nbformat": 4,
 "nbformat_minor": 2
}
