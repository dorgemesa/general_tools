{
 "cells": [
  {
   "cell_type": "code",
   "execution_count": 89,
   "metadata": {},
   "outputs": [],
   "source": [
    "import numpy as np\n",
    "import matplotlib.pyplot as plt\n",
    "from monai.losses.dice import DiceCELoss\n",
    "from monai.losses.dice import DiceLoss\n",
    "import torch.nn as nn\n",
    "import torch"
   ]
  },
  {
   "cell_type": "code",
   "execution_count": 90,
   "metadata": {},
   "outputs": [],
   "source": [
    "\n",
    "def create_a_box(image_size, box_size):\n",
    "    background = np.zeros((image_size,image_size))\n",
    "    box = np.ones((box_size,box_size))\n",
    "    background[:len(box), :len(box)] = box\n",
    "    return torch.Tensor(background).unsqueeze(0)\n"
   ]
  },
  {
   "cell_type": "code",
   "execution_count": 91,
   "metadata": {},
   "outputs": [],
   "source": [
    "'''\n",
    "Create a few artificial images of size 128\n",
    "'''\n",
    "\n",
    "# box of size 1 \n",
    "box_1 = create_a_box(128, 1)\n",
    "\n",
    "# box of size 4\n",
    "box_4 = create_a_box(128, 4)\n",
    "\n",
    "# box of size 16\n",
    "box_16 = create_a_box(128, 16)\n",
    "\n",
    "# box of size 64\n",
    "box_64 = create_a_box(128, 64)\n",
    "\n",
    "# box of size 96\n",
    "box_96 = create_a_box(128, 96)\n",
    "\n",
    "# box of size 120\n",
    "box_120 = create_a_box(128, 120)\n",
    "\n",
    "# box of size 128\n",
    "box_128 = create_a_box(128, 128)\n",
    "\n",
    "\n",
    "'''\n",
    "Create a few artificial images of size 16\n",
    "'''\n",
    "\n",
    "\n",
    "# box of size 1 \n",
    "BOX_1 = create_a_box(16, 1)\n",
    "\n",
    "# box of size 4\n",
    "BOX_2 = create_a_box(16, 2)\n",
    "\n",
    "# box of size 16\n",
    "BOX_3 = create_a_box(16, 3)\n",
    "\n",
    "# box of size 64\n",
    "BOX_4 = create_a_box(16, 4)\n",
    "\n",
    "# box of size 64\n",
    "BOX_6 = create_a_box(16, 6)\n",
    "\n",
    "# box of size 64\n",
    "BOX_18 = create_a_box(16, 8)\n",
    "\n",
    "# box of size 64\n",
    "BOX_12 = create_a_box(16, 12)\n",
    "\n",
    "# box of size 64\n",
    "BOX_16 = create_a_box(16, 16)\n"
   ]
  },
  {
   "cell_type": "code",
   "execution_count": 93,
   "metadata": {},
   "outputs": [
    {
     "data": {
      "text/plain": [
       "<matplotlib.image.AxesImage at 0x1f3bfd6bf10>"
      ]
     },
     "execution_count": 93,
     "metadata": {},
     "output_type": "execute_result"
    },
    {
     "data": {
      "image/png": "[encoded data removed]",
      "text/plain": [
       "<Figure size 432x288 with 1 Axes>"
      ]
     },
     "metadata": {
      "needs_background": "light"
     },
     "output_type": "display_data"
    }
   ],
   "source": [
    "'''\n",
    "Plot a box\n",
    "'''\n",
    "\n",
    "plt.imshow(BOX_12.permute(1,2,0), cmap=\"gray\")\n",
    "\n"
   ]
  },
  {
   "cell_type": "code",
   "execution_count": 94,
   "metadata": {},
   "outputs": [],
   "source": [
    "dice_ce_loss = DiceCELoss(batch=False, softmax = True, lambda_dice =  0, lambda_ce = 1, reduction = \"sum\", include_background=False)\n",
    "bce_loss = nn.BCELoss()\n",
    "dice_loss = DiceLoss(batch=False, to_onehot_y = False, reduction = \"sum\")\n",
    "\n",
    "\n",
    "def dice(input, target, epsilon = 1e-7):\n",
    "\n",
    "    intersection = torch.sum(target * input)\n",
    "    union = torch.sum(target) + torch.sum(input)\n",
    "\n",
    "    return 1 - ( (2 * intersection + epsilon) / (union + epsilon) )\n",
    "\n",
    "def dice_bce(input, target, lambda_dice, lambda_ce):\n",
    "\n",
    "    Dloss = dice(input, target)\n",
    "\n",
    "    CEloss = bce_loss(input, target)\n",
    "\n",
    "    return lambda_dice * Dloss + lambda_ce * CEloss\n",
    "\n"
   ]
  },
  {
   "cell_type": "code",
   "execution_count": 95,
   "metadata": {},
   "outputs": [
    {
     "name": "stdout",
     "output_type": "stream",
     "text": [
      "tensor(1.9531)\n",
      "tensor(0.3846)\n",
      "tensor(1.4000)\n",
      "tensor(42.7506)\n"
     ]
    }
   ],
   "source": [
    "prediction = BOX_2\n",
    "ground_truth = BOX_3\n",
    "\n",
    "'''\n",
    "CE Loss\n",
    "'''\n",
    "\n",
    "output_ce = bce_loss(prediction, ground_truth)\n",
    "\n",
    "print(output_ce)\n",
    "\n",
    "\n",
    "'''\n",
    "dice\n",
    "'''\n",
    "\n",
    "output_dice = dice(prediction, ground_truth)\n",
    "\n",
    "print(output_dice)\n",
    "\n",
    "\n",
    "'''\n",
    "DICE Loss\n",
    "'''\n",
    "\n",
    "output_dice = dice_loss(prediction, ground_truth)\n",
    "\n",
    "print(output_dice)\n",
    "\n",
    "\n",
    "'''\n",
    "DICE CE Loss\n",
    "'''\n",
    "\n",
    "output_ce_dice = dice_ce_loss(prediction, ground_truth)\n",
    "\n",
    "print(output_ce_dice)\n"
   ]
  }
 ],
 "metadata": {
  "interpreter": {
   "hash": "9ed2ffbdf226bef58f57902ca66fcc59d1de5d0af5a8ea7d39b5d0f3ada0bd6e"
  },
  "kernelspec": {
   "display_name": "Python 3.8.13 ('baby')",
   "language": "python",
   "name": "python3"
  },
  "language_info": {
   "codemirror_mode": {
    "name": "ipython",
    "version": 3
   },
   "file_extension": ".py",
   "mimetype": "text/x-python",
   "name": "python",
   "nbconvert_exporter": "python",
   "pygments_lexer": "ipython3",
   "version": "3.8.13"
  },
  "orig_nbformat": 4
 },
 "nbformat": 4,
 "nbformat_minor": 2
}
